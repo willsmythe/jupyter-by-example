{
 "cells": [
  {
   "cell_type": "markdown",
   "id": "596c1b3c-6b1b-438d-9ad3-15d791bd7ea0",
   "metadata": {},
   "source": [
    "# CMasher: Scientific Colormaps for Cmashing Plots asd as df\n",
    "\n",
    "The _CMasher_ package provides a collection of scientific colormaps and utility functions to be used by different _Python_ packages and projects, mainly in combination with [matplotlib](https://github.com/matplotlib/matplotlib), showcased in the [online documentation](https://cmasher.readthedocs.io/).\n",
    "\n",
    "[🧑‍💻 Code](https://github.com/1313e/CMasher) • [📚 Docs](https://cmasher.readthedocs.io/#cmasher-scientific-colormaps-for-making-accessible-informative-and-cmashing-plots)"
   ]
  },
  {
   "cell_type": "markdown",
   "id": "a6c4dacf-621a-475e-9c1c-0e198ebc3469",
   "metadata": {},
   "source": [
    "**Table of Contents**\n",
    "- [Basic Imports, and Create an Example Dataframe](#Basic-Imports,-and-Create-an-Example-Dataframe)\n",
    "- [Some Helper Functions](#Some-Helper-Functions)\n",
    "- [CMasher Offers More Colormaps](#CMasher-Offers-More-Colormaps)\n",
    "- [Selecting Parts of a Color Map](#Selecting-Parts-of-a-Color-Map)\n",
    "- [Extracting Color Palettes From a Color Map](#Extracting-Color-Palettes-From-a-Color-Map)"
   ]
  },
  {
   "cell_type": "markdown",
   "id": "ef3f78ab-0413-46cb-bf3d-1a6abcbae239",
   "metadata": {},
   "source": [
    "## Basic Imports, and Create an Example Dataframe"
   ]
  },
  {
   "cell_type": "code",
   "execution_count": null,
   "id": "e712ee47-b2bd-4ddd-87e1-e8e4a4dd1665",
   "metadata": {},
   "outputs": [],
   "source": [
    "from pprint import pprint as pp\n",
    "\n",
    "import pandas as pd\n",
    "import cmasher as cmr\n",
    "import matplotlib as mpl\n",
    "import matplotlib.pyplot as plt\n",
    "from IPython.display import display, HTML\n",
    "\n",
    "mpl.style.use('ggplot')\n",
    "df = pd.DataFrame(\n",
    "    {'label': list('ABCDEF'), \n",
    "     'value': [10, 30, 20, 42, 8, 15]})\n",
    "df"
   ]
  },
  {
   "cell_type": "markdown",
   "id": "d58647c3-a384-4a90-b168-b2cc1ae70e6a",
   "metadata": {},
   "source": [
    "## Some Helper Functions"
   ]
  },
  {
   "cell_type": "code",
   "execution_count": null,
   "id": "0c2ec512-137f-4b1d-b341-1dc8fab48888",
   "metadata": {},
   "outputs": [],
   "source": [
    "from contextlib import contextmanager\n",
    "\n",
    "@contextmanager\n",
    "def dpi(dpi_value):\n",
    "    \"\"\"Open context with changed matplotlib dpi value.\"\"\"\n",
    "    std_dpi = mpl.rcParams['figure.dpi']\n",
    "    try:\n",
    "        mpl.rcParams['figure.dpi'] = dpi_value\n",
    "        yield std_dpi, dpi_value\n",
    "    finally:\n",
    "        mpl.rcParams['figure.dpi'] = std_dpi"
   ]
  },
  {
   "cell_type": "markdown",
   "id": "47aba648-5b38-4e0d-b0a1-10dcf9857f3e",
   "metadata": {},
   "source": [
    "## CMasher Offers More Colormaps\n",
    "\n",
    "<a href=\"https://cmasher.readthedocs.io/user/sequential.html#sequential-colormaps\" rel=\"nofollow\"><img alt=\"CMasher Colormap Overview\" src=\"https://github.com/1313e/CMasher/raw/master/cmasher/colormaps/cmap_overview.png\" style=\"width: 100%; max-width: 720px;\"></a>"
   ]
  },
  {
   "cell_type": "markdown",
   "id": "85d14489-1f14-4e3c-a5d9-f4de412c5de5",
   "metadata": {},
   "source": [
    "## Selecting Parts of a Color Map"
   ]
  },
  {
   "cell_type": "code",
   "execution_count": null,
   "id": "db1a5f81-b7f6-4249-b190-7b0cac9637a5",
   "metadata": {},
   "outputs": [],
   "source": [
    "\"\"\" Takes the middle third of a spectrum,\n",
    "    avoiding colors that are too dark or too light.\n",
    "\"\"\"\n",
    "import cmasher as cmr\n",
    "\n",
    "with dpi(16):\n",
    "    for start, stop in [(0, 1), (0.33, 0.66)]:\n",
    "        cmap = cmr.get_sub_cmap('cmr.cosmic', start, stop)\n",
    "        cmr.view_cmap(cmap, show_grayscale=True)"
   ]
  },
  {
   "cell_type": "markdown",
   "id": "84a0032f-1149-4ed1-a8cc-cbf49e2e761e",
   "metadata": {},
   "source": [
    "## Extracting Color Palettes From a Color Map"
   ]
  },
  {
   "cell_type": "code",
   "execution_count": null,
   "id": "fd06aa7f-1f6b-4c44-bd3a-eb35a1fc7b16",
   "metadata": {},
   "outputs": [],
   "source": [
    "\"\"\" This code takes discrete colors from a continuous map,\n",
    "    which can then be used to e.g. color the individual bars\n",
    "    of a chart.\n",
    "\"\"\"\n",
    "cmap = cmr.get_sub_cmap('cmr.cosmic', .33, .66)\n",
    "pp(cmr.take_cmap_colors(cmap, N=len(df)))\n",
    "colors = cmr.take_cmap_colors(cmap, N=len(df), return_fmt='hex')\n",
    "pp(colors)\n",
    "print('')\n",
    "display(HTML(' '.join(f'<span style=\"background-color: {x};\">'\n",
    "                      f'\\u2001</span>\\xA0<tt>{x}</tt>\\u2001' \n",
    "                      for x in colors)))"
   ]
  }
 ],
 "metadata": {
  "kernelspec": {
   "display_name": "Python 3 (ipykernel)",
   "language": "python",
   "name": "python3"
  },
  "language_info": {
   "codemirror_mode": {
    "name": "ipython",
    "version": 3
   },
   "file_extension": ".py",
   "mimetype": "text/x-python",
   "name": "python",
   "nbconvert_exporter": "python",
   "pygments_lexer": "ipython3",
   "version": "3.9.2"
  }
 },
 "nbformat": 4,
 "nbformat_minor": 5
}
